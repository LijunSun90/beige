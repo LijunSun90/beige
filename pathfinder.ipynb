{
 "cells": [
  {
   "cell_type": "code",
   "execution_count": 37,
   "metadata": {},
   "outputs": [
    {
     "data": {
      "text/plain": [
       "[[2.0, 4.0], [2.0, 3.0], [2.0, 2.0], [3.0, 2.0], [4.0, 2.0]]"
      ]
     },
     "execution_count": 37,
     "metadata": {},
     "output_type": "execute_result"
    }
   ],
   "source": [
    "from envSetup import EnvSetup\n",
    "\n",
    "\n",
    "\n",
    "# pathfinder\n",
    "class Pathfinder():    \n",
    "    #\n",
    "    def __init__(self):\n",
    "        self.nodes_movable = EnvSetup().nodes_movable\n",
    "            \n",
    "    \n",
    "    \n",
    "    # 4 neighbors: east, north, west, south.\n",
    "    def neighbours4(self, node):\n",
    "        # 4 directions: east, north, west, south.\n",
    "        dirs = [[1., 0.], [0., 1.], [-1., 0.], [0., -1.]]\n",
    "        result = []\n",
    "        for dir in dirs:\n",
    "            neighbor = [node[0] + dir[0], node[1] + dir[1]]\n",
    "            # Check for validation.\n",
    "            if neighbor in self.nodes_movable:\n",
    "                result.append(neighbor)\n",
    "        \n",
    "        return result\n",
    "        \n",
    "    # 8 neighbors: east, northest, north, northwest, west, southwest, south, southeast.\n",
    "    def neighbours8(self, node):\n",
    "        # 8 directions: east, northest, north, northwest, west, southwest, south, southeast.\n",
    "        dirs = [[1., 0.], [1., 1.], [0., 1.], [-1., 1.], [-1., 0.], [-1., -1.], [0., -1.], [1., -1.]]\n",
    "        result = []\n",
    "        for dir in dirs:\n",
    "            neighbor = [node[0] + dir[0], node[1] + dir[1]]\n",
    "            # Check for validation.\n",
    "            if neighbor in self.nodes_movable:\n",
    "                result.append(neighbor)        \n",
    "        \n",
    "        return result\n",
    "    \n",
    "    \n",
    "    \n",
    "    \n",
    "# test.\n",
    "# node = [3, 3]\n",
    "# Pathfinder().neighbours4(node)\n",
    "# Pathfinder().neighbours8(node)\n"
   ]
  },
  {
   "cell_type": "code",
   "execution_count": null,
   "metadata": {},
   "outputs": [],
   "source": []
  }
 ],
 "metadata": {
  "kernelspec": {
   "display_name": "Python 3",
   "language": "python",
   "name": "python3"
  },
  "language_info": {
   "codemirror_mode": {
    "name": "ipython",
    "version": 3
   },
   "file_extension": ".py",
   "mimetype": "text/x-python",
   "name": "python",
   "nbconvert_exporter": "python",
   "pygments_lexer": "ipython3",
   "version": "3.6.4"
  }
 },
 "nbformat": 4,
 "nbformat_minor": 2
}
