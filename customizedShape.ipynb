{
 "cells": [
  {
   "cell_type": "code",
   "execution_count": 14,
   "metadata": {},
   "outputs": [
    {
     "data": {
      "image/png": "[encoded data removed]",
      "text/plain": [
       "<Figure size 432x288 with 1 Axes>"
      ]
     },
     "metadata": {},
     "output_type": "display_data"
    }
   ],
   "source": [
    "import numpy as np\n",
    "# import matplotlib.pyplot as plt\n",
    "import matplotlib.path as mpath\n",
    "\n",
    "class CustomizedShape():\n",
    "    def __init__(self):\n",
    "        # Define the shape of a robot.\n",
    "        shape_description_robot = [\n",
    "            (1., 2., mpath.Path.MOVETO),\n",
    "            (1., 1., mpath.Path.LINETO),\n",
    "            (2., 1., mpath.Path.LINETO),\n",
    "            (2., -1., mpath.Path.LINETO),\n",
    "            (1., -1., mpath.Path.LINETO),\n",
    "            (1., -2., mpath.Path.LINETO),\n",
    "            (-1., -2., mpath.Path.LINETO),\n",
    "            (-1., -1., mpath.Path.LINETO),\n",
    "            (-2., -1., mpath.Path.LINETO),\n",
    "            (-2., 1., mpath.Path.LINETO),\n",
    "            (-1., 1., mpath.Path.LINETO),\n",
    "            (-1., 2., mpath.Path.LINETO),\n",
    "            (0., 0., mpath.Path.CLOSEPOLY),\n",
    "        ]\n",
    "        u, v, codes = zip(*shape_description_robot)\n",
    "        self.marker_robot = mpath.Path(np.asarray((u, v)).T, codes)\n",
    "\n",
    "        # Define the shape of a target.\n",
    "        shape_description_target = [\n",
    "            (np.cos(72*3.25*np.pi/180), np.sin(72*3.25*np.pi/180), mpath.Path.MOVETO),\n",
    "            (np.cos(72*1.25*np.pi/180), np.sin(72*1.25*np.pi/180), mpath.Path.LINETO),\n",
    "            (np.cos(72*4.25*np.pi/180), np.sin(72*4.25*np.pi/180), mpath.Path.LINETO),\n",
    "            (np.cos(72*2.25*np.pi/180), np.sin(72*2.25*np.pi/180), mpath.Path.LINETO),\n",
    "            (np.cos(72*0.25*np.pi/180), np.sin(72*0.25*np.pi/180), mpath.Path.LINETO),\n",
    "            (np.cos(72*3.25*np.pi/180), np.sin(72*3.25*np.pi/180), mpath.Path.LINETO),\n",
    "            (0., 0., mpath.Path.CLOSEPOLY),\n",
    "        ]\n",
    "        u, v, codes = zip(*shape_description_target)\n",
    "        self.marker_target = mpath.Path(np.asarray((u, v)).T, codes)\n",
    "\n",
    "\n",
    "# data = np.random.rand(8, 8)\n",
    "# plt.scatter(data[:, 0], data[:, 1], c='0.75', marker=CustomizedShape().marker_robot, s=64)\n",
    "# plt.show()"
   ]
  },
  {
   "cell_type": "code",
   "execution_count": null,
   "metadata": {},
   "outputs": [],
   "source": []
  }
 ],
 "metadata": {
  "kernelspec": {
   "display_name": "Python 3",
   "language": "python",
   "name": "python3"
  },
  "language_info": {
   "codemirror_mode": {
    "name": "ipython",
    "version": 3
   },
   "file_extension": ".py",
   "mimetype": "text/x-python",
   "name": "python",
   "nbconvert_exporter": "python",
   "pygments_lexer": "ipython3",
   "version": "3.6.4"
  }
 },
 "nbformat": 4,
 "nbformat_minor": 2
}
